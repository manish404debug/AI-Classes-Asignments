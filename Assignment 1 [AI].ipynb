{
 "cells": [
  {
   "cell_type": "code",
   "execution_count": 3,
   "id": "3013a906",
   "metadata": {},
   "outputs": [
    {
     "name": "stdout",
     "output_type": "stream",
     "text": [
      "A* Path: [(2, 0), (2, 1), (2, 2), (2, 3), (3, 3), (4, 3), (4, 4), (4, 5)]\n",
      "A* Cost: 7\n"
     ]
    },
    {
     "data": {
      "image/png": "[encoded data removed]",
      "text/plain": [
       "<Figure size 600x600 with 1 Axes>"
      ]
     },
     "metadata": {},
     "output_type": "display_data"
    },
    {
     "name": "stdout",
     "output_type": "stream",
     "text": [
      "UCS Cost: 7\n"
     ]
    }
   ],
   "source": [
    "# --- Imports ---\n",
    "import heapq\n",
    "import math\n",
    "import numpy as np\n",
    "import matplotlib.pyplot as plt\n",
    "from matplotlib.colors import ListedColormap\n",
    "\n",
    "# --- Utility Functions ---\n",
    "def locate_position(grid, target):\n",
    "    \"\"\"Find coordinates of a specific target in the grid.\"\"\"\n",
    "    for r, row in enumerate(grid):\n",
    "        for c, val in enumerate(row):\n",
    "            if val == target:\n",
    "                return (r, c)\n",
    "    return None\n",
    "\n",
    "def manhattan(p1, p2):\n",
    "    \"\"\"Calculate Manhattan distance between two points.\"\"\"\n",
    "    return abs(p1[0] - p2[0]) + abs(p1[1] - p2[1])\n",
    "\n",
    "def get_neighbors(grid, row, col):\n",
    "    \"\"\"Generate valid neighboring positions (not walls).\"\"\"\n",
    "    directions = [(-1, 0), (1, 0), (0, -1), (0, 1)]\n",
    "    for dr, dc in directions:\n",
    "        nr, nc = row + dr, col + dc\n",
    "        if 0 <= nr < len(grid) and 0 <= nc < len(grid[0]):\n",
    "            if grid[nr][nc] != 1:\n",
    "                yield (nr, nc)\n",
    "\n",
    "# --- A* Pathfinding ---\n",
    "def run_astar(grid, heuristic_fn):\n",
    "    \"\"\"A* Search algorithm with a customizable heuristic function.\"\"\"\n",
    "    start = locate_position(grid, 'A')\n",
    "    goal = locate_position(grid, 'B')\n",
    "    if not start or not goal:\n",
    "        raise Exception(\"Start or Goal not found in grid.\")\n",
    "\n",
    "    open_set = []\n",
    "    g_cost = {start: 0}\n",
    "    came_from = {}\n",
    "    counter = 0\n",
    "\n",
    "    heapq.heappush(open_set, (heuristic_fn(start), counter, start))\n",
    "    visited = set()\n",
    "\n",
    "    while open_set:\n",
    "        _, _, current = heapq.heappop(open_set)\n",
    "        if current in visited:\n",
    "            continue\n",
    "\n",
    "        if current == goal:\n",
    "            # Trace back the path\n",
    "            path = []\n",
    "            while current in came_from:\n",
    "                path.append(current)\n",
    "                current = came_from[current]\n",
    "            path.append(start)\n",
    "            return list(reversed(path)), g_cost[goal]\n",
    "\n",
    "        visited.add(current)\n",
    "        for neighbor in get_neighbors(grid, *current):\n",
    "            new_cost = g_cost[current] + 1\n",
    "            if neighbor not in g_cost or new_cost < g_cost[neighbor]:\n",
    "                g_cost[neighbor] = new_cost\n",
    "                came_from[neighbor] = current\n",
    "                counter += 1\n",
    "                priority = new_cost + heuristic_fn(neighbor)\n",
    "                heapq.heappush(open_set, (priority, counter, neighbor))\n",
    "\n",
    "    return None, math.inf\n",
    "\n",
    "# --- Uniform Cost Search ---\n",
    "def run_ucs(grid):\n",
    "    \"\"\"Uniform Cost Search without heuristic.\"\"\"\n",
    "    start = locate_position(grid, 'A')\n",
    "    goal = locate_position(grid, 'B')\n",
    "    if not start or not goal:\n",
    "        raise Exception(\"Start or Goal not found in grid.\")\n",
    "\n",
    "    queue = [(0, start)]\n",
    "    min_cost = {start: 0}\n",
    "\n",
    "    while queue:\n",
    "        cost, current = heapq.heappop(queue)\n",
    "        if current == goal:\n",
    "            return cost\n",
    "\n",
    "        for neighbor in get_neighbors(grid, *current):\n",
    "            total = cost + 1\n",
    "            if neighbor not in min_cost or total < min_cost[neighbor]:\n",
    "                min_cost[neighbor] = total\n",
    "                heapq.heappush(queue, (total, neighbor))\n",
    "\n",
    "    return math.inf\n",
    "\n",
    "# --- Visualization ---\n",
    "def show_grid(grid, path=None, title=\"Pathfinding Grid\"):\n",
    "    \"\"\"Visualize the grid and optionally overlay a solution path.\"\"\"\n",
    "    colormap = ListedColormap(['black', 'white', 'green', 'red'])\n",
    "    visual = []\n",
    "\n",
    "    for row in grid:\n",
    "        visual_row = []\n",
    "        for cell in row:\n",
    "            if cell == 1:\n",
    "                visual_row.append(0)  # Wall\n",
    "            elif cell == 'A':\n",
    "                visual_row.append(2)  # Start\n",
    "            elif cell == 'B':\n",
    "                visual_row.append(3)  # Goal\n",
    "            else:\n",
    "                visual_row.append(1)  # Empty space\n",
    "        visual.append(visual_row)\n",
    "\n",
    "    visual = np.array(visual)\n",
    "    plt.figure(figsize=(6, 6))\n",
    "    plt.imshow(visual, cmap=colormap, interpolation='nearest')\n",
    "\n",
    "    if path:\n",
    "        x_coords = [p[1] for p in path]\n",
    "        y_coords = [p[0] for p in path]\n",
    "        plt.plot(x_coords, y_coords, color='red', linewidth=2)\n",
    "\n",
    "    plt.title(title)\n",
    "    plt.gca().invert_yaxis()\n",
    "    plt.grid(False)\n",
    "    plt.show()\n",
    "\n",
    "# --- Example Grid ---\n",
    "example_grid = [\n",
    "    [0, 0, 0, 0, 0, 0],\n",
    "    [1, 1, 0, 1, 1, 0],\n",
    "    ['A', 0, 0, 0, 1, 0],\n",
    "    [1, 1, 1, 0, 1, 0],\n",
    "    [0, 0, 0, 0, 0, 'B'],\n",
    "]\n",
    "\n",
    "start_point = locate_position(example_grid, 'A')\n",
    "end_point = locate_position(example_grid, 'B')\n",
    "\n",
    "# Run A* with Manhattan Distance\n",
    "path, total_cost = run_astar(example_grid, lambda p: manhattan(p, end_point))\n",
    "print(\"A* Path:\", path)\n",
    "print(\"A* Cost:\", total_cost)\n",
    "show_grid(example_grid, path, title=\"A* Search Result\")\n",
    "\n",
    "# Run UCS\n",
    "ucs_cost = run_ucs(example_grid)\n",
    "print(\"UCS Cost:\", ucs_cost)\n"
   ]
  },
  {
   "cell_type": "code",
   "execution_count": 5,
   "id": "ba2cde69",
   "metadata": {},
   "outputs": [
    {
     "name": "stdout",
     "output_type": "stream",
     "text": [
      "Baseline Manhattan (L1)\n",
      "Path: [(2, 0), (2, 1), (2, 2), (2, 3), (3, 3), (4, 3), (4, 4), (4, 5)]\n",
      "Cost: 7\n",
      "Optimal Cost: 7 | Optimal?: True\n"
     ]
    },
    {
     "data": {
      "image/png": "[encoded data removed]",
      "text/plain": [
       "<Figure size 600x600 with 1 Axes>"
      ]
     },
     "metadata": {},
     "output_type": "display_data"
    }
   ],
   "source": [
    "# --- Case 0: Baseline Manhattan (L1) Heuristic ---\n",
    "end_point = locate_position(example_grid, 'B')\n",
    "manhattan_heuristic = lambda node: manhattan(node, end_point)\n",
    "\n",
    "path_case0, cost_case0 = run_astar(example_grid, manhattan_heuristic)\n",
    "optimal_cost = run_ucs(example_grid)\n",
    "\n",
    "print(\"Baseline Manhattan (L1)\")\n",
    "print(\"Path:\", path_case0)\n",
    "print(\"Cost:\", cost_case0)\n",
    "print(\"Optimal Cost:\", optimal_cost, \"| Optimal?:\", cost_case0 == optimal_cost)\n",
    "\n",
    "show_grid(example_grid, path_case0, title=\"Baseline: Manhattan\")\n"
   ]
  },
  {
   "cell_type": "code",
   "execution_count": 6,
   "id": "db313636",
   "metadata": {},
   "outputs": [
    {
     "name": "stdout",
     "output_type": "stream",
     "text": [
      "Heuristic: 1.5 × Manhattan\n",
      "Path: [(2, 0), (2, 1), (2, 2), (2, 3), (3, 3), (4, 3), (4, 4), (4, 5)]\n",
      "Cost: 7\n",
      "Optimal Cost: 7 | Optimal?: True\n"
     ]
    },
    {
     "data": {
      "image/png": "[encoded data removed]",
      "text/plain": [
       "<Figure size 600x600 with 1 Axes>"
      ]
     },
     "metadata": {},
     "output_type": "display_data"
    }
   ],
   "source": [
    "# --- Case 1: Weighted Manhattan (1.5 × L1) ---\n",
    "end_point = locate_position(example_grid, 'B')\n",
    "weighted_heuristic = lambda node: 1.5 * manhattan(node, end_point)\n",
    "\n",
    "path_case1, cost_case1 = run_astar(example_grid, weighted_heuristic)\n",
    "optimal_cost = run_ucs(example_grid)\n",
    "\n",
    "print(\"Heuristic: 1.5 × Manhattan\")\n",
    "print(\"Path:\", path_case1)\n",
    "print(\"Cost:\", cost_case1)\n",
    "print(\"Optimal Cost:\", optimal_cost, \"| Optimal?:\", cost_case1 == optimal_cost)\n",
    "\n",
    "show_grid(example_grid, path_case1, title=\"Heuristic = 1.5 × Manhattan\")\n"
   ]
  },
  {
   "cell_type": "code",
   "execution_count": 7,
   "id": "a1437101",
   "metadata": {},
   "outputs": [
    {
     "name": "stdout",
     "output_type": "stream",
     "text": [
      "Heuristic: 2 × Manhattan\n",
      "Path: [(2, 0), (2, 1), (2, 2), (2, 3), (3, 3), (4, 3), (4, 4), (4, 5)]\n",
      "Cost: 7\n",
      "Optimal Cost: 7 | Optimal?: True\n"
     ]
    },
    {
     "data": {
      "image/png": "[encoded data removed]",
      "text/plain": [
       "<Figure size 600x600 with 1 Axes>"
      ]
     },
     "metadata": {},
     "output_type": "display_data"
    }
   ],
   "source": [
    "# --- Case 2: Weighted Manhattan (2 × L1) ---\n",
    "end_point = locate_position(example_grid, 'B')\n",
    "heuristic_w2 = lambda node: 2 * manhattan(node, end_point)\n",
    "\n",
    "path_case2, cost_case2 = run_astar(example_grid, heuristic_w2)\n",
    "optimal_cost = run_ucs(example_grid)\n",
    "\n",
    "print(\"Heuristic: 2 × Manhattan\")\n",
    "print(\"Path:\", path_case2)\n",
    "print(\"Cost:\", cost_case2)\n",
    "print(\"Optimal Cost:\", optimal_cost, \"| Optimal?:\", cost_case2 == optimal_cost)\n",
    "\n",
    "show_grid(example_grid, path_case2, title=\"Heuristic = 2 × Manhattan\")\n"
   ]
  },
  {
   "cell_type": "code",
   "execution_count": null,
   "id": "29614509",
   "metadata": {},
   "outputs": [
    {
     "name": "stdout",
     "output_type": "stream",
     "text": [
      "Heuristic: 0.5 × Manhattan\n",
      "Path: [(2, 0), (2, 1), (2, 2), (2, 3), (3, 3), (4, 3), (4, 4), (4, 5)]\n",
      "Cost: 7\n",
      "Optimal Cost: 7 | Optimal?: True\n"
     ]
    },
    {
     "data": {
      "image/png": "[encoded data removed]",
      "text/plain": [
       "<Figure size 500x500 with 1 Axes>"
      ]
     },
     "metadata": {},
     "output_type": "display_data"
    }
   ],
   "source": [
    "# --- Case 3: Weighted Manhattan (0.5 × L1) ---\n",
    "end_point = locate_position(example_grid, 'B')\n",
    "heuristic_w05 = lambda node: 0.5 * manhattan(node, end_point)\n",
    "\n",
    "path_case3, cost_case3 = run_astar(example_grid, heuristic_w05)\n",
    "optimal_cost = run_ucs(example_grid)\n",
    "\n",
    "print(\"Heuristic: 0.5 × Manhattan\")\n",
    "print(\"Path:\", path_case3)\n",
    "print(\"Cost:\", cost_case3)\n",
    "print(\"Optimal Cost:\", optimal_cost, \"| Optimal?:\", cost_case3 == optimal_cost)\n",
    "\n",
    "show_grid(example_grid, path_case3, title=\"Heuristic = 0.5 × Manhattan\")\n"
   ]
  },
  {
   "cell_type": "code",
   "execution_count": 8,
   "id": "ae9aa729",
   "metadata": {},
   "outputs": [
    {
     "name": "stdout",
     "output_type": "stream",
     "text": [
      "Admissible (1.0× Manhattan)? True | Violations: []\n",
      "Admissible (1.5× Manhattan)? False | Violations (first 3): [((0, 0), 13.5, 9), ((0, 1), 12.0, 8), ((0, 2), 10.5, 7)]\n",
      "Admissible (2.0× Manhattan)? False | Violations (first 3): [((0, 0), 18.0, 9), ((0, 1), 16.0, 8), ((0, 2), 14.0, 7)]\n",
      "Admissible (0.5× Manhattan)? True | Violations (first 3): []\n"
     ]
    }
   ],
   "source": [
    "# --- Admissibility Checks for Different Heuristics ---\n",
    "goal_pos = locate_position(example_grid, 'B')\n",
    "\n",
    "def check_admissibility(grid, heuristic_func):\n",
    "    \"\"\"\n",
    "    Verifies that the heuristic does not overestimate the true shortest distance\n",
    "    from any node to the goal. Returns (True/False, list of violating nodes).\n",
    "    \"\"\"\n",
    "    from collections import deque\n",
    "\n",
    "    rows, cols = len(grid), len(grid[0])\n",
    "    INF = float('inf')\n",
    "    distances = [[INF for _ in range(cols)] for _ in range(rows)]\n",
    "\n",
    "    goal_r, goal_c = goal_pos\n",
    "    distances[goal_r][goal_c] = 0\n",
    "    queue = deque([(goal_r, goal_c)])\n",
    "\n",
    "    # Reverse BFS from goal to get actual shortest distances\n",
    "    while queue:\n",
    "        r, c = queue.popleft()\n",
    "        for nr, nc in get_neighbors(grid, r, c):\n",
    "            if distances[nr][nc] > distances[r][c] + 1:\n",
    "                distances[nr][nc] = distances[r][c] + 1\n",
    "                queue.append((nr, nc))\n",
    "\n",
    "    is_admissible = True\n",
    "    violations = []\n",
    "\n",
    "    for r in range(rows):\n",
    "        for c in range(cols):\n",
    "            if grid[r][c] != 1:  # skip walls\n",
    "                heuristic_val = heuristic_func((r, c))\n",
    "                true_cost = distances[r][c]\n",
    "                if true_cost == INF:\n",
    "                    continue  # unreachable node\n",
    "                if heuristic_val > true_cost + 1e-9:\n",
    "                    is_admissible = False\n",
    "                    violations.append(((r, c), heuristic_val, true_cost))\n",
    "\n",
    "    return is_admissible, violations\n",
    "\n",
    "# --- Check all heuristics ---\n",
    "# Re-define heuristics using refactored `manhattan` and `locate_position`\n",
    "end_point = locate_position(example_grid, 'B')\n",
    "heuristic_base   = lambda node: manhattan(node, end_point)\n",
    "heuristic_w15    = lambda node: 1.5 * manhattan(node, end_point)\n",
    "heuristic_w2     = lambda node: 2.0 * manhattan(node, end_point)\n",
    "heuristic_w05    = lambda node: 0.5 * manhattan(node, end_point)\n",
    "\n",
    "adm_case0, viol_case0 = check_admissibility(example_grid, heuristic_base)\n",
    "adm_case1, viol_case1 = check_admissibility(example_grid, heuristic_w15)\n",
    "adm_case2, viol_case2 = check_admissibility(example_grid, heuristic_w2)\n",
    "adm_case3, viol_case3 = check_admissibility(example_grid, heuristic_w05)\n",
    "\n",
    "# --- Print Results ---\n",
    "print(\"Admissible (1.0× Manhattan)?\", adm_case0, \"| Violations:\", viol_case0[:3])\n",
    "print(\"Admissible (1.5× Manhattan)?\", adm_case1, \"| Violations (first 3):\", viol_case1[:3])\n",
    "print(\"Admissible (2.0× Manhattan)?\", adm_case2, \"| Violations (first 3):\", viol_case2[:3])\n",
    "print(\"Admissible (0.5× Manhattan)?\", adm_case3, \"| Violations (first 3):\", viol_case3[:3])\n"
   ]
  },
  {
   "cell_type": "code",
   "execution_count": null,
   "id": "190ee232",
   "metadata": {},
   "outputs": [],
   "source": []
  }
 ],
 "metadata": {
  "kernelspec": {
   "display_name": "Python 3",
   "language": "python",
   "name": "python3"
  },
  "language_info": {
   "codemirror_mode": {
    "name": "ipython",
    "version": 3
   },
   "file_extension": ".py",
   "mimetype": "text/x-python",
   "name": "python",
   "nbconvert_exporter": "python",
   "pygments_lexer": "ipython3",
   "version": "3.12.2"
  }
 },
 "nbformat": 4,
 "nbformat_minor": 5
}
